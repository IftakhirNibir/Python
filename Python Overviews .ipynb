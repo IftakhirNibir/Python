{
 "cells": [
  {
   "cell_type": "markdown",
   "id": "09081b02",
   "metadata": {},
   "source": [
    "#### Variables are dynamicly typed because the type is determined at run time"
   ]
  },
  {
   "cell_type": "code",
   "execution_count": 2,
   "id": "58c1b74f",
   "metadata": {},
   "outputs": [
    {
     "name": "stdout",
     "output_type": "stream",
     "text": [
      "n =  0\n",
      "n =  abc\n"
     ]
    }
   ],
   "source": [
    "n = 0\n",
    "print(\"n = \",n)\n",
    "\n",
    "n = \"abc\"\n",
    "print(\"n = \",n)"
   ]
  },
  {
   "cell_type": "markdown",
   "id": "3b57570c",
   "metadata": {},
   "source": [
    "#### Multiple assignments "
   ]
  },
  {
   "cell_type": "code",
   "execution_count": 3,
   "id": "b0be1ab2",
   "metadata": {},
   "outputs": [],
   "source": [
    "n, m = 0 , \"abc\"\n",
    "a, b, c = 0.125, \"xyz\", False "
   ]
  },
  {
   "cell_type": "markdown",
   "id": "64c77227",
   "metadata": {},
   "source": [
    "#### Increment "
   ]
  },
  {
   "cell_type": "code",
   "execution_count": 4,
   "id": "d89355c6",
   "metadata": {},
   "outputs": [],
   "source": [
    "n = n + 1 \n",
    "n += 1 \n",
    "#But n++ is not working in python"
   ]
  },
  {
   "cell_type": "markdown",
   "id": "1a1e8538",
   "metadata": {},
   "source": [
    "#### None is null (absence of value) "
   ]
  },
  {
   "cell_type": "code",
   "execution_count": 5,
   "id": "85af5fb5",
   "metadata": {},
   "outputs": [
    {
     "name": "stdout",
     "output_type": "stream",
     "text": [
      "n =  None\n"
     ]
    }
   ],
   "source": [
    "n = 4 \n",
    "n = None\n",
    "print(\"n = \",n)"
   ]
  },
  {
   "cell_type": "markdown",
   "id": "ce26978b",
   "metadata": {},
   "source": [
    "#### If statements don't need parentheses or curly braces  "
   ]
  },
  {
   "cell_type": "code",
   "execution_count": 6,
   "id": "8a4a4666",
   "metadata": {},
   "outputs": [],
   "source": [
    "n = 1\n",
    "if n>1:\n",
    "    n-=1\n",
    "elif n==2:\n",
    "    n*=2\n",
    "else:\n",
    "    n+=2"
   ]
  },
  {
   "cell_type": "markdown",
   "id": "ecd38945",
   "metadata": {},
   "source": [
    "### Parentheses needed for multi-line conditions. In python '&&' means by 'and' and '||' represents by 'or' "
   ]
  },
  {
   "cell_type": "code",
   "execution_count": 7,
   "id": "ba574a97",
   "metadata": {},
   "outputs": [],
   "source": [
    "n, m = 1, 2 \n",
    "if((n>2 and n!=m) or n==m): #if we are not use parentheses here then we got \"Syntex Error\" \n",
    "    n+=1"
   ]
  },
  {
   "cell_type": "markdown",
   "id": "b29703fb",
   "metadata": {},
   "source": [
    "#### While loop"
   ]
  },
  {
   "cell_type": "code",
   "execution_count": 9,
   "id": "5a3cf02c",
   "metadata": {},
   "outputs": [
    {
     "name": "stdout",
     "output_type": "stream",
     "text": [
      "0\n",
      "1\n",
      "2\n",
      "3\n",
      "4\n"
     ]
    }
   ],
   "source": [
    "n = 0\n",
    "while n < 5:\n",
    "    print(n)\n",
    "    n+=1"
   ]
  },
  {
   "cell_type": "markdown",
   "id": "ce2747fe",
   "metadata": {},
   "source": [
    "#### Looping from i = 0 to i = 4"
   ]
  },
  {
   "cell_type": "code",
   "execution_count": 11,
   "id": "cd239cea",
   "metadata": {},
   "outputs": [
    {
     "name": "stdout",
     "output_type": "stream",
     "text": [
      "0\n",
      "1\n",
      "2\n",
      "3\n",
      "4\n"
     ]
    }
   ],
   "source": [
    "for i in range(5):\n",
    "    print(i)"
   ]
  },
  {
   "cell_type": "markdown",
   "id": "d8a50877",
   "metadata": {},
   "source": [
    "#### Looping from i = 2 to i = 5"
   ]
  },
  {
   "cell_type": "code",
   "execution_count": 12,
   "id": "7ef60e49",
   "metadata": {},
   "outputs": [
    {
     "name": "stdout",
     "output_type": "stream",
     "text": [
      "2\n",
      "3\n",
      "4\n",
      "5\n"
     ]
    }
   ],
   "source": [
    "for i in range(2,6):\n",
    "    print(i)"
   ]
  },
  {
   "cell_type": "markdown",
   "id": "524d8e19",
   "metadata": {},
   "source": [
    "#### Looping from i = 5 to i = 2"
   ]
  },
  {
   "cell_type": "code",
   "execution_count": 13,
   "id": "b6e19e8a",
   "metadata": {},
   "outputs": [
    {
     "name": "stdout",
     "output_type": "stream",
     "text": [
      "5\n",
      "4\n",
      "3\n",
      "2\n"
     ]
    }
   ],
   "source": [
    "for i in range(5,1,-1):\n",
    "    print(i)"
   ]
  },
  {
   "cell_type": "markdown",
   "id": "fc67fdcc",
   "metadata": {},
   "source": [
    "#### Division is decimal by default "
   ]
  },
  {
   "cell_type": "code",
   "execution_count": 14,
   "id": "f63e4b61",
   "metadata": {},
   "outputs": [
    {
     "name": "stdout",
     "output_type": "stream",
     "text": [
      "2.5\n"
     ]
    }
   ],
   "source": [
    "print(5/2)"
   ]
  },
  {
   "cell_type": "markdown",
   "id": "2007d821",
   "metadata": {},
   "source": [
    "#### Double slash rounds down"
   ]
  },
  {
   "cell_type": "code",
   "execution_count": 15,
   "id": "85c6edc1",
   "metadata": {},
   "outputs": [
    {
     "name": "stdout",
     "output_type": "stream",
     "text": [
      "2\n"
     ]
    }
   ],
   "source": [
    "print(5//2)"
   ]
  },
  {
   "cell_type": "code",
   "execution_count": 18,
   "id": "dd7900eb",
   "metadata": {},
   "outputs": [
    {
     "name": "stdout",
     "output_type": "stream",
     "text": [
      "-1.5\n"
     ]
    }
   ],
   "source": [
    "print(-3/2)"
   ]
  },
  {
   "cell_type": "code",
   "execution_count": 19,
   "id": "b2f1f2ea",
   "metadata": {},
   "outputs": [
    {
     "name": "stdout",
     "output_type": "stream",
     "text": [
      "-2\n"
     ]
    }
   ],
   "source": [
    "print(-3//2)"
   ]
  },
  {
   "cell_type": "markdown",
   "id": "cd75d238",
   "metadata": {},
   "source": [
    "-3 divided by 2 is -1.5. However for negative number division it takes near highest negative value so it gives us -2 as the result.To solve this problem, we need to write "
   ]
  },
  {
   "cell_type": "code",
   "execution_count": 21,
   "id": "edf68afd",
   "metadata": {},
   "outputs": [
    {
     "name": "stdout",
     "output_type": "stream",
     "text": [
      "-1\n"
     ]
    }
   ],
   "source": [
    "print(int(-3/2))"
   ]
  },
  {
   "cell_type": "markdown",
   "id": "d9254746",
   "metadata": {},
   "source": [
    "#### Modding"
   ]
  },
  {
   "cell_type": "code",
   "execution_count": 22,
   "id": "fff64c4c",
   "metadata": {},
   "outputs": [
    {
     "data": {
      "text/plain": [
       "1"
      ]
     },
     "execution_count": 22,
     "metadata": {},
     "output_type": "execute_result"
    }
   ],
   "source": [
    "10%3"
   ]
  },
  {
   "cell_type": "code",
   "execution_count": 23,
   "id": "32d6f0fb",
   "metadata": {},
   "outputs": [
    {
     "data": {
      "text/plain": [
       "2"
      ]
     },
     "execution_count": 23,
     "metadata": {},
     "output_type": "execute_result"
    }
   ],
   "source": [
    "-10%3"
   ]
  },
  {
   "cell_type": "markdown",
   "id": "2cb1f4da",
   "metadata": {},
   "source": [
    "So it gives unexpected result for negative values. To solve this issue, we need to write"
   ]
  },
  {
   "cell_type": "code",
   "execution_count": 25,
   "id": "cf8a46e3",
   "metadata": {},
   "outputs": [
    {
     "name": "stdout",
     "output_type": "stream",
     "text": [
      "-1.0\n"
     ]
    }
   ],
   "source": [
    "import math\n",
    "print(math.fmod(-10,3))"
   ]
  },
  {
   "cell_type": "markdown",
   "id": "ac6235fe",
   "metadata": {},
   "source": [
    "#### More math helpers"
   ]
  },
  {
   "cell_type": "code",
   "execution_count": 26,
   "id": "55b53f00",
   "metadata": {},
   "outputs": [
    {
     "data": {
      "text/plain": [
       "1.5"
      ]
     },
     "execution_count": 26,
     "metadata": {},
     "output_type": "execute_result"
    }
   ],
   "source": [
    "3/2"
   ]
  },
  {
   "cell_type": "code",
   "execution_count": 27,
   "id": "98858cff",
   "metadata": {},
   "outputs": [
    {
     "data": {
      "text/plain": [
       "1"
      ]
     },
     "execution_count": 27,
     "metadata": {},
     "output_type": "execute_result"
    }
   ],
   "source": [
    "math.floor(3/2)  #It takes lowest nearest value"
   ]
  },
  {
   "cell_type": "code",
   "execution_count": 28,
   "id": "38e991b8",
   "metadata": {},
   "outputs": [
    {
     "data": {
      "text/plain": [
       "2"
      ]
     },
     "execution_count": 28,
     "metadata": {},
     "output_type": "execute_result"
    }
   ],
   "source": [
    "math.ceil(3/2)   #It takes highest nearest value"
   ]
  },
  {
   "cell_type": "code",
   "execution_count": 29,
   "id": "c3704578",
   "metadata": {},
   "outputs": [
    {
     "data": {
      "text/plain": [
       "2.0"
      ]
     },
     "execution_count": 29,
     "metadata": {},
     "output_type": "execute_result"
    }
   ],
   "source": [
    "math.sqrt(4)"
   ]
  },
  {
   "cell_type": "code",
   "execution_count": 30,
   "id": "01cab5a4",
   "metadata": {},
   "outputs": [
    {
     "data": {
      "text/plain": [
       "8.0"
      ]
     },
     "execution_count": 30,
     "metadata": {},
     "output_type": "execute_result"
    }
   ],
   "source": [
    "math.pow(2,3)   #It means 2 to the power 3"
   ]
  },
  {
   "cell_type": "markdown",
   "id": "043d43fb",
   "metadata": {},
   "source": [
    "If we ever need maximum integer we can use float infinity "
   ]
  },
  {
   "cell_type": "code",
   "execution_count": 31,
   "id": "2fadfb5e",
   "metadata": {},
   "outputs": [
    {
     "data": {
      "text/plain": [
       "inf"
      ]
     },
     "execution_count": 31,
     "metadata": {},
     "output_type": "execute_result"
    }
   ],
   "source": [
    "float('inf')"
   ]
  },
  {
   "cell_type": "code",
   "execution_count": 32,
   "id": "0122194e",
   "metadata": {},
   "outputs": [],
   "source": [
    "positive_infinity = float('inf')"
   ]
  },
  {
   "cell_type": "code",
   "execution_count": 34,
   "id": "53cf512a",
   "metadata": {},
   "outputs": [
    {
     "data": {
      "text/plain": [
       "inf"
      ]
     },
     "execution_count": 34,
     "metadata": {},
     "output_type": "execute_result"
    }
   ],
   "source": [
    "result = positive_infinity+10\n",
    "result"
   ]
  },
  {
   "cell_type": "code",
   "execution_count": 37,
   "id": "6fd24367",
   "metadata": {},
   "outputs": [
    {
     "data": {
      "text/plain": [
       "1.6069380442589903e+60"
      ]
     },
     "execution_count": 37,
     "metadata": {},
     "output_type": "execute_result"
    }
   ],
   "source": [
    "math.pow(2,200)"
   ]
  },
  {
   "cell_type": "code",
   "execution_count": 38,
   "id": "a64f1726",
   "metadata": {},
   "outputs": [
    {
     "data": {
      "text/plain": [
       "True"
      ]
     },
     "execution_count": 38,
     "metadata": {},
     "output_type": "execute_result"
    }
   ],
   "source": [
    "math.pow(2,200)<float('inf')"
   ]
  },
  {
   "cell_type": "markdown",
   "id": "20fafa29",
   "metadata": {},
   "source": [
    "Infinity plus any finite number is still infinity, and infinity minus infinity is not a valid number (results in nan, \"Not a Number\")."
   ]
  },
  {
   "cell_type": "code",
   "execution_count": 36,
   "id": "bc2faa63",
   "metadata": {},
   "outputs": [
    {
     "data": {
      "text/plain": [
       "nan"
      ]
     },
     "execution_count": 36,
     "metadata": {},
     "output_type": "execute_result"
    }
   ],
   "source": [
    "a = float('inf')\n",
    "b = float('inf')\n",
    "result = a-b\n",
    "result"
   ]
  },
  {
   "cell_type": "markdown",
   "id": "74d5b539",
   "metadata": {},
   "source": [
    "If we ever need a minimum integer we can use float negative infinity "
   ]
  },
  {
   "cell_type": "code",
   "execution_count": 39,
   "id": "f9474d14",
   "metadata": {},
   "outputs": [
    {
     "data": {
      "text/plain": [
       "-inf"
      ]
     },
     "execution_count": 39,
     "metadata": {},
     "output_type": "execute_result"
    }
   ],
   "source": [
    "float('-inf')"
   ]
  },
  {
   "cell_type": "markdown",
   "id": "6ef93255",
   "metadata": {},
   "source": [
    "#### Arrays (called lists in python)"
   ]
  },
  {
   "cell_type": "code",
   "execution_count": 41,
   "id": "8a60f910",
   "metadata": {},
   "outputs": [
    {
     "data": {
      "text/plain": [
       "[1, 2, 3]"
      ]
     },
     "execution_count": 41,
     "metadata": {},
     "output_type": "execute_result"
    }
   ],
   "source": [
    "arr = [1,2,3]\n",
    "arr"
   ]
  },
  {
   "cell_type": "markdown",
   "id": "aa93f4a7",
   "metadata": {},
   "source": [
    "Arrays in python are dynamic arrays by default. Dynamic arrays can be used as stacks. So"
   ]
  },
  {
   "cell_type": "code",
   "execution_count": 42,
   "id": "d77164f8",
   "metadata": {},
   "outputs": [
    {
     "data": {
      "text/plain": [
       "[1, 2, 3, 4, 5]"
      ]
     },
     "execution_count": 42,
     "metadata": {},
     "output_type": "execute_result"
    }
   ],
   "source": [
    "#For push operation\n",
    "arr.append(4)\n",
    "arr.append(5)\n",
    "arr"
   ]
  },
  {
   "cell_type": "code",
   "execution_count": 43,
   "id": "9cd820d6",
   "metadata": {},
   "outputs": [
    {
     "data": {
      "text/plain": [
       "[1, 2, 3, 4]"
      ]
     },
     "execution_count": 43,
     "metadata": {},
     "output_type": "execute_result"
    }
   ],
   "source": [
    "#For pop operation\n",
    "arr.pop()\n",
    "arr"
   ]
  },
  {
   "cell_type": "markdown",
   "id": "1034f3b3",
   "metadata": {},
   "source": [
    "But this is technically an array and not a stack. So we can use insert operation in the array.  "
   ]
  },
  {
   "cell_type": "code",
   "execution_count": 44,
   "id": "91f0b9a1",
   "metadata": {},
   "outputs": [
    {
     "data": {
      "text/plain": [
       "[1, 7, 2, 3, 4]"
      ]
     },
     "execution_count": 44,
     "metadata": {},
     "output_type": "execute_result"
    }
   ],
   "source": [
    "arr.insert(1,7)\n",
    "arr"
   ]
  },
  {
   "cell_type": "markdown",
   "id": "c65cf55f",
   "metadata": {},
   "source": [
    "But unlike pushing and popping from an array inserting into the middle is a big O(n) operation. But it's not a O(n) to index an array. These operations are constant time operation. For example "
   ]
  },
  {
   "cell_type": "code",
   "execution_count": 45,
   "id": "df17662d",
   "metadata": {},
   "outputs": [
    {
     "data": {
      "text/plain": [
       "[0, 7, 2, 0, 4]"
      ]
     },
     "execution_count": 45,
     "metadata": {},
     "output_type": "execute_result"
    }
   ],
   "source": [
    "arr[0] = 0\n",
    "arr[3] = 0 \n",
    "arr"
   ]
  },
  {
   "cell_type": "markdown",
   "id": "e4a78a66",
   "metadata": {},
   "source": [
    "Initialize arr of size n with default value of 1"
   ]
  },
  {
   "cell_type": "code",
   "execution_count": 46,
   "id": "b37088cc",
   "metadata": {},
   "outputs": [
    {
     "name": "stdout",
     "output_type": "stream",
     "text": [
      "[1, 1, 1, 1, 1]\n",
      "5\n"
     ]
    }
   ],
   "source": [
    "n = 5\n",
    "arr = [1] * n\n",
    "print(arr)\n",
    "print(len(arr))"
   ]
  },
  {
   "cell_type": "code",
   "execution_count": 47,
   "id": "ed9d2e14",
   "metadata": {},
   "outputs": [
    {
     "data": {
      "text/plain": [
       "4"
      ]
     },
     "execution_count": 47,
     "metadata": {},
     "output_type": "execute_result"
    }
   ],
   "source": [
    "arr = [1,2,3,4]\n",
    "arr[-1]  #Negative value read the last element of the array"
   ]
  },
  {
   "cell_type": "markdown",
   "id": "bc48aeaa",
   "metadata": {},
   "source": [
    "For second last value "
   ]
  },
  {
   "cell_type": "code",
   "execution_count": 49,
   "id": "b083c6d4",
   "metadata": {},
   "outputs": [
    {
     "data": {
      "text/plain": [
       "3"
      ]
     },
     "execution_count": 49,
     "metadata": {},
     "output_type": "execute_result"
    }
   ],
   "source": [
    "arr[-2]"
   ]
  },
  {
   "cell_type": "markdown",
   "id": "c44ca639",
   "metadata": {},
   "source": [
    "Sublists also known as slicing "
   ]
  },
  {
   "cell_type": "code",
   "execution_count": 51,
   "id": "6c5124d8",
   "metadata": {},
   "outputs": [
    {
     "name": "stdout",
     "output_type": "stream",
     "text": [
      "[2, 3]\n"
     ]
    }
   ],
   "source": [
    "arr = [1,2,3,4]\n",
    "print(arr[1:3]) #similar to for loop ranges and last index is exclusive "
   ]
  },
  {
   "cell_type": "markdown",
   "id": "7c256fd6",
   "metadata": {},
   "source": [
    "Unpacking"
   ]
  },
  {
   "cell_type": "code",
   "execution_count": 52,
   "id": "1e781185",
   "metadata": {},
   "outputs": [
    {
     "name": "stdout",
     "output_type": "stream",
     "text": [
      "1 2 3\n"
     ]
    }
   ],
   "source": [
    "a,b,c = [1,2,3]\n",
    "print(a,b,c)"
   ]
  },
  {
   "cell_type": "markdown",
   "id": "fe365a14",
   "metadata": {},
   "source": [
    "Loop through array "
   ]
  },
  {
   "cell_type": "code",
   "execution_count": 54,
   "id": "9013b9c5",
   "metadata": {},
   "outputs": [
    {
     "name": "stdout",
     "output_type": "stream",
     "text": [
      "1\n",
      "2\n",
      "3\n"
     ]
    }
   ],
   "source": [
    "nums = [1,2,3]\n",
    "#using index\n",
    "for i in range(len(nums)):\n",
    "    print(nums[i])"
   ]
  },
  {
   "cell_type": "code",
   "execution_count": 56,
   "id": "abf0cb99",
   "metadata": {},
   "outputs": [
    {
     "name": "stdout",
     "output_type": "stream",
     "text": [
      "1\n",
      "2\n",
      "3\n"
     ]
    }
   ],
   "source": [
    "#Without index\n",
    "for n in nums:\n",
    "    print(n)"
   ]
  },
  {
   "cell_type": "code",
   "execution_count": 59,
   "id": "8091224d",
   "metadata": {},
   "outputs": [
    {
     "name": "stdout",
     "output_type": "stream",
     "text": [
      "0 1\n",
      "1 2\n",
      "2 3\n"
     ]
    }
   ],
   "source": [
    "#with index and value\n",
    "for index,value in enumerate(nums):\n",
    "    print(index,value)"
   ]
  },
  {
   "cell_type": "markdown",
   "id": "420cc858",
   "metadata": {},
   "source": [
    "Loop through multiple arrays simultaneously with unpacking"
   ]
  },
  {
   "cell_type": "code",
   "execution_count": 60,
   "id": "88dc6c47",
   "metadata": {},
   "outputs": [
    {
     "name": "stdout",
     "output_type": "stream",
     "text": [
      "1 2\n",
      "3 4\n",
      "5 6\n"
     ]
    }
   ],
   "source": [
    "num1 = [1,3,5]\n",
    "num2 = [2,4,6]\n",
    "for n1,n2 in zip(num1,num2):\n",
    "    print(n1,n2)"
   ]
  },
  {
   "cell_type": "markdown",
   "id": "ab825ced",
   "metadata": {},
   "source": [
    "Reverse an array"
   ]
  },
  {
   "cell_type": "code",
   "execution_count": 61,
   "id": "79cfee6b",
   "metadata": {},
   "outputs": [
    {
     "data": {
      "text/plain": [
       "[7, 8, 9]"
      ]
     },
     "execution_count": 61,
     "metadata": {},
     "output_type": "execute_result"
    }
   ],
   "source": [
    "arr = [9,8,7]\n",
    "arr.reverse()\n",
    "arr"
   ]
  },
  {
   "cell_type": "markdown",
   "id": "45d6c962",
   "metadata": {},
   "source": [
    "Sorting an array"
   ]
  },
  {
   "cell_type": "code",
   "execution_count": 62,
   "id": "c84b9c52",
   "metadata": {},
   "outputs": [
    {
     "data": {
      "text/plain": [
       "[1, 2, 3, 4, 6, 7, 8]"
      ]
     },
     "execution_count": 62,
     "metadata": {},
     "output_type": "execute_result"
    }
   ],
   "source": [
    "arr = [1,6,7,8,3,2,4]\n",
    "arr.sort()\n",
    "arr"
   ]
  },
  {
   "cell_type": "markdown",
   "id": "15c50d41",
   "metadata": {},
   "source": [
    "If we want descending order sorting then"
   ]
  },
  {
   "cell_type": "code",
   "execution_count": 64,
   "id": "00136b17",
   "metadata": {},
   "outputs": [
    {
     "data": {
      "text/plain": [
       "[8, 7, 6, 4, 3, 2, 1]"
      ]
     },
     "execution_count": 64,
     "metadata": {},
     "output_type": "execute_result"
    }
   ],
   "source": [
    "arr.sort(reverse=True)\n",
    "arr"
   ]
  },
  {
   "cell_type": "markdown",
   "id": "684bd453",
   "metadata": {},
   "source": [
    "We can sort strings also. For example"
   ]
  },
  {
   "cell_type": "code",
   "execution_count": 65,
   "id": "cac16e8a",
   "metadata": {},
   "outputs": [
    {
     "data": {
      "text/plain": [
       "['alice', 'bob', 'doe', 'jane']"
      ]
     },
     "execution_count": 65,
     "metadata": {},
     "output_type": "execute_result"
    }
   ],
   "source": [
    "arr = [\"bob\",\"alice\",\"jane\",\"doe\"]\n",
    "arr.sort()\n",
    "arr"
   ]
  },
  {
   "cell_type": "markdown",
   "id": "4cbd4d9f",
   "metadata": {},
   "source": [
    "We can also sort string according to their length. For this we need to use lambda function"
   ]
  },
  {
   "cell_type": "code",
   "execution_count": 67,
   "id": "cf6baae2",
   "metadata": {},
   "outputs": [
    {
     "data": {
      "text/plain": [
       "['bob', 'doe', 'jane', 'alice']"
      ]
     },
     "execution_count": 67,
     "metadata": {},
     "output_type": "execute_result"
    }
   ],
   "source": [
    "arr.sort(key= lambda x: len(x))\n",
    "arr"
   ]
  },
  {
   "cell_type": "code",
   "execution_count": null,
   "id": "6cc3f1eb",
   "metadata": {},
   "outputs": [],
   "source": []
  }
 ],
 "metadata": {
  "kernelspec": {
   "display_name": "Python 3 (ipykernel)",
   "language": "python",
   "name": "python3"
  },
  "language_info": {
   "codemirror_mode": {
    "name": "ipython",
    "version": 3
   },
   "file_extension": ".py",
   "mimetype": "text/x-python",
   "name": "python",
   "nbconvert_exporter": "python",
   "pygments_lexer": "ipython3",
   "version": "3.9.6"
  }
 },
 "nbformat": 4,
 "nbformat_minor": 5
}
