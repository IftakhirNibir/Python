{
 "cells": [
  {
   "cell_type": "markdown",
   "id": "78493ae1",
   "metadata": {},
   "source": [
    "#### Variables are dynamicly typed because the type is determined at run time"
   ]
  },
  {
   "cell_type": "code",
   "execution_count": 2,
   "id": "1e5f86aa",
   "metadata": {},
   "outputs": [
    {
     "name": "stdout",
     "output_type": "stream",
     "text": [
      "n =  0\n",
      "n =  abc\n"
     ]
    }
   ],
   "source": [
    "n = 0\n",
    "print(\"n = \",n)\n",
    "\n",
    "n = \"abc\"\n",
    "print(\"n = \",n)"
   ]
  },
  {
   "cell_type": "markdown",
   "id": "35367b10",
   "metadata": {},
   "source": [
    "#### Multiple assignments "
   ]
  },
  {
   "cell_type": "code",
   "execution_count": 3,
   "id": "2bc587e7",
   "metadata": {},
   "outputs": [],
   "source": [
    "n, m = 0 , \"abc\"\n",
    "a, b, c = 0.125, \"xyz\", False "
   ]
  },
  {
   "cell_type": "markdown",
   "id": "2ad45972",
   "metadata": {},
   "source": [
    "#### Increment "
   ]
  },
  {
   "cell_type": "code",
   "execution_count": 4,
   "id": "98304bd2",
   "metadata": {},
   "outputs": [],
   "source": [
    "n = n + 1 \n",
    "n += 1 \n",
    "#But n++ is not working in python"
   ]
  },
  {
   "cell_type": "markdown",
   "id": "a423f5a3",
   "metadata": {},
   "source": [
    "#### None is null (absence of value) "
   ]
  },
  {
   "cell_type": "code",
   "execution_count": 5,
   "id": "4d9de664",
   "metadata": {},
   "outputs": [
    {
     "name": "stdout",
     "output_type": "stream",
     "text": [
      "n =  None\n"
     ]
    }
   ],
   "source": [
    "n = 4 \n",
    "n = None\n",
    "print(\"n = \",n)"
   ]
  },
  {
   "cell_type": "markdown",
   "id": "9a28acd4",
   "metadata": {},
   "source": [
    "#### If statements don't need parentheses or curly braces  "
   ]
  },
  {
   "cell_type": "code",
   "execution_count": 6,
   "id": "13a52c8a",
   "metadata": {},
   "outputs": [],
   "source": [
    "n = 1\n",
    "if n>1:\n",
    "    n-=1\n",
    "elif n==2:\n",
    "    n*=2\n",
    "else:\n",
    "    n+=2"
   ]
  },
  {
   "cell_type": "markdown",
   "id": "727e7f90",
   "metadata": {},
   "source": [
    "### Parentheses needed for multi-line conditions. In python '&&' means by 'and' and '||' represents by 'or' "
   ]
  },
  {
   "cell_type": "code",
   "execution_count": 7,
   "id": "2ff06bfc",
   "metadata": {},
   "outputs": [],
   "source": [
    "n, m = 1, 2 \n",
    "if((n>2 and n!=m) or n==m): #if we are not use parentheses here then we got \"Syntex Error\" \n",
    "    n+=1"
   ]
  },
  {
   "cell_type": "markdown",
   "id": "fe481b47",
   "metadata": {},
   "source": [
    "#### While loop"
   ]
  },
  {
   "cell_type": "code",
   "execution_count": 9,
   "id": "8fea6ee8",
   "metadata": {},
   "outputs": [
    {
     "name": "stdout",
     "output_type": "stream",
     "text": [
      "0\n",
      "1\n",
      "2\n",
      "3\n",
      "4\n"
     ]
    }
   ],
   "source": [
    "n = 0\n",
    "while n < 5:\n",
    "    print(n)\n",
    "    n+=1"
   ]
  },
  {
   "cell_type": "markdown",
   "id": "207e9e73",
   "metadata": {},
   "source": [
    "#### Looping from i = 0 to i = 4"
   ]
  },
  {
   "cell_type": "code",
   "execution_count": 11,
   "id": "6575f055",
   "metadata": {},
   "outputs": [
    {
     "name": "stdout",
     "output_type": "stream",
     "text": [
      "0\n",
      "1\n",
      "2\n",
      "3\n",
      "4\n"
     ]
    }
   ],
   "source": [
    "for i in range(5):\n",
    "    print(i)"
   ]
  },
  {
   "cell_type": "markdown",
   "id": "79980bbd",
   "metadata": {},
   "source": [
    "#### Looping from i = 2 to i = 5"
   ]
  },
  {
   "cell_type": "code",
   "execution_count": 12,
   "id": "9af1411e",
   "metadata": {},
   "outputs": [
    {
     "name": "stdout",
     "output_type": "stream",
     "text": [
      "2\n",
      "3\n",
      "4\n",
      "5\n"
     ]
    }
   ],
   "source": [
    "for i in range(2,6):\n",
    "    print(i)"
   ]
  },
  {
   "cell_type": "markdown",
   "id": "d4ebdce8",
   "metadata": {},
   "source": [
    "#### Looping from i = 5 to i = 2"
   ]
  },
  {
   "cell_type": "code",
   "execution_count": 13,
   "id": "1a4021d6",
   "metadata": {},
   "outputs": [
    {
     "name": "stdout",
     "output_type": "stream",
     "text": [
      "5\n",
      "4\n",
      "3\n",
      "2\n"
     ]
    }
   ],
   "source": [
    "for i in range(5,1,-1):\n",
    "    print(i)"
   ]
  },
  {
   "cell_type": "markdown",
   "id": "993134d2",
   "metadata": {},
   "source": [
    "#### Division is decimal by default "
   ]
  },
  {
   "cell_type": "code",
   "execution_count": 14,
   "id": "3fde8519",
   "metadata": {},
   "outputs": [
    {
     "name": "stdout",
     "output_type": "stream",
     "text": [
      "2.5\n"
     ]
    }
   ],
   "source": [
    "print(5/2)"
   ]
  },
  {
   "cell_type": "markdown",
   "id": "d881744c",
   "metadata": {},
   "source": [
    "#### Double slash rounds down"
   ]
  },
  {
   "cell_type": "code",
   "execution_count": 15,
   "id": "6f3eebfb",
   "metadata": {},
   "outputs": [
    {
     "name": "stdout",
     "output_type": "stream",
     "text": [
      "2\n"
     ]
    }
   ],
   "source": [
    "print(5//2)"
   ]
  },
  {
   "cell_type": "code",
   "execution_count": 18,
   "id": "a3365631",
   "metadata": {},
   "outputs": [
    {
     "name": "stdout",
     "output_type": "stream",
     "text": [
      "-1.5\n"
     ]
    }
   ],
   "source": [
    "print(-3/2)"
   ]
  },
  {
   "cell_type": "code",
   "execution_count": 19,
   "id": "6c907123",
   "metadata": {},
   "outputs": [
    {
     "name": "stdout",
     "output_type": "stream",
     "text": [
      "-2\n"
     ]
    }
   ],
   "source": [
    "print(-3//2)"
   ]
  },
  {
   "cell_type": "markdown",
   "id": "583bff42",
   "metadata": {},
   "source": [
    "-3 divided by 2 is -1.5. However for negative number division it takes near highest negative value so it gives us -2 as the result.To solve this problem, we need to write "
   ]
  },
  {
   "cell_type": "code",
   "execution_count": 21,
   "id": "887890ce",
   "metadata": {},
   "outputs": [
    {
     "name": "stdout",
     "output_type": "stream",
     "text": [
      "-1\n"
     ]
    }
   ],
   "source": [
    "print(int(-3/2))"
   ]
  },
  {
   "cell_type": "markdown",
   "id": "4d232028",
   "metadata": {},
   "source": [
    "#### Modding"
   ]
  },
  {
   "cell_type": "code",
   "execution_count": 22,
   "id": "191184af",
   "metadata": {},
   "outputs": [
    {
     "data": {
      "text/plain": [
       "1"
      ]
     },
     "execution_count": 22,
     "metadata": {},
     "output_type": "execute_result"
    }
   ],
   "source": [
    "10%3"
   ]
  },
  {
   "cell_type": "code",
   "execution_count": 23,
   "id": "3d7f8af6",
   "metadata": {},
   "outputs": [
    {
     "data": {
      "text/plain": [
       "2"
      ]
     },
     "execution_count": 23,
     "metadata": {},
     "output_type": "execute_result"
    }
   ],
   "source": [
    "-10%3"
   ]
  },
  {
   "cell_type": "markdown",
   "id": "91c0c3d1",
   "metadata": {},
   "source": [
    "So it gives unexpected result for negative values. To solve this issue, we need to write"
   ]
  },
  {
   "cell_type": "code",
   "execution_count": 25,
   "id": "3ce4f4f1",
   "metadata": {},
   "outputs": [
    {
     "name": "stdout",
     "output_type": "stream",
     "text": [
      "-1.0\n"
     ]
    }
   ],
   "source": [
    "import math\n",
    "print(math.fmod(-10,3))"
   ]
  },
  {
   "cell_type": "markdown",
   "id": "1117bb8a",
   "metadata": {},
   "source": [
    "#### More math helpers"
   ]
  },
  {
   "cell_type": "code",
   "execution_count": 26,
   "id": "86bc5207",
   "metadata": {},
   "outputs": [
    {
     "data": {
      "text/plain": [
       "1.5"
      ]
     },
     "execution_count": 26,
     "metadata": {},
     "output_type": "execute_result"
    }
   ],
   "source": [
    "3/2"
   ]
  },
  {
   "cell_type": "code",
   "execution_count": 27,
   "id": "9a939071",
   "metadata": {},
   "outputs": [
    {
     "data": {
      "text/plain": [
       "1"
      ]
     },
     "execution_count": 27,
     "metadata": {},
     "output_type": "execute_result"
    }
   ],
   "source": [
    "math.floor(3/2)  #It takes lowest nearest value"
   ]
  },
  {
   "cell_type": "code",
   "execution_count": 28,
   "id": "720966bb",
   "metadata": {},
   "outputs": [
    {
     "data": {
      "text/plain": [
       "2"
      ]
     },
     "execution_count": 28,
     "metadata": {},
     "output_type": "execute_result"
    }
   ],
   "source": [
    "math.ceil(3/2)   #It takes highest nearest value"
   ]
  },
  {
   "cell_type": "code",
   "execution_count": 29,
   "id": "e5a6503f",
   "metadata": {},
   "outputs": [
    {
     "data": {
      "text/plain": [
       "2.0"
      ]
     },
     "execution_count": 29,
     "metadata": {},
     "output_type": "execute_result"
    }
   ],
   "source": [
    "math.sqrt(4)"
   ]
  },
  {
   "cell_type": "code",
   "execution_count": 30,
   "id": "a1c71796",
   "metadata": {},
   "outputs": [
    {
     "data": {
      "text/plain": [
       "8.0"
      ]
     },
     "execution_count": 30,
     "metadata": {},
     "output_type": "execute_result"
    }
   ],
   "source": [
    "math.pow(2,3)   #It means 2 to the power 3"
   ]
  },
  {
   "cell_type": "markdown",
   "id": "0210909e",
   "metadata": {},
   "source": [
    "If we ever need maximum integer we can use float infinity "
   ]
  },
  {
   "cell_type": "code",
   "execution_count": 31,
   "id": "87776120",
   "metadata": {},
   "outputs": [
    {
     "data": {
      "text/plain": [
       "inf"
      ]
     },
     "execution_count": 31,
     "metadata": {},
     "output_type": "execute_result"
    }
   ],
   "source": [
    "float('inf')"
   ]
  },
  {
   "cell_type": "code",
   "execution_count": 32,
   "id": "42c06783",
   "metadata": {},
   "outputs": [],
   "source": [
    "positive_infinity = float('inf')"
   ]
  },
  {
   "cell_type": "code",
   "execution_count": 34,
   "id": "5de10964",
   "metadata": {},
   "outputs": [
    {
     "data": {
      "text/plain": [
       "inf"
      ]
     },
     "execution_count": 34,
     "metadata": {},
     "output_type": "execute_result"
    }
   ],
   "source": [
    "result = positive_infinity+10\n",
    "result"
   ]
  },
  {
   "cell_type": "code",
   "execution_count": 37,
   "id": "58edb169",
   "metadata": {},
   "outputs": [
    {
     "data": {
      "text/plain": [
       "1.6069380442589903e+60"
      ]
     },
     "execution_count": 37,
     "metadata": {},
     "output_type": "execute_result"
    }
   ],
   "source": [
    "math.pow(2,200)"
   ]
  },
  {
   "cell_type": "code",
   "execution_count": 38,
   "id": "a3161cea",
   "metadata": {},
   "outputs": [
    {
     "data": {
      "text/plain": [
       "True"
      ]
     },
     "execution_count": 38,
     "metadata": {},
     "output_type": "execute_result"
    }
   ],
   "source": [
    "math.pow(2,200)<float('inf')"
   ]
  },
  {
   "cell_type": "markdown",
   "id": "9f08f6e0",
   "metadata": {},
   "source": [
    "Infinity plus any finite number is still infinity, and infinity minus infinity is not a valid number (results in nan, \"Not a Number\")."
   ]
  },
  {
   "cell_type": "code",
   "execution_count": 36,
   "id": "b04f0a4b",
   "metadata": {},
   "outputs": [
    {
     "data": {
      "text/plain": [
       "nan"
      ]
     },
     "execution_count": 36,
     "metadata": {},
     "output_type": "execute_result"
    }
   ],
   "source": [
    "a = float('inf')\n",
    "b = float('inf')\n",
    "result = a-b\n",
    "result"
   ]
  },
  {
   "cell_type": "markdown",
   "id": "8daa3e63",
   "metadata": {},
   "source": [
    "If we ever need a minimum integer we can use float negative infinity "
   ]
  },
  {
   "cell_type": "code",
   "execution_count": 39,
   "id": "e4adec69",
   "metadata": {},
   "outputs": [
    {
     "data": {
      "text/plain": [
       "-inf"
      ]
     },
     "execution_count": 39,
     "metadata": {},
     "output_type": "execute_result"
    }
   ],
   "source": [
    "float('-inf')"
   ]
  },
  {
   "cell_type": "markdown",
   "id": "b1d229da",
   "metadata": {},
   "source": [
    "#### Arrays (called lists in python)"
   ]
  },
  {
   "cell_type": "code",
   "execution_count": 41,
   "id": "ba6a5365",
   "metadata": {},
   "outputs": [
    {
     "data": {
      "text/plain": [
       "[1, 2, 3]"
      ]
     },
     "execution_count": 41,
     "metadata": {},
     "output_type": "execute_result"
    }
   ],
   "source": [
    "arr = [1,2,3]\n",
    "arr"
   ]
  },
  {
   "cell_type": "markdown",
   "id": "9957a69d",
   "metadata": {},
   "source": [
    "Arrays in python are dynamic arrays by default. Dynamic arrays can be used as stacks. So"
   ]
  },
  {
   "cell_type": "code",
   "execution_count": 42,
   "id": "0fd8dc79",
   "metadata": {},
   "outputs": [
    {
     "data": {
      "text/plain": [
       "[1, 2, 3, 4, 5]"
      ]
     },
     "execution_count": 42,
     "metadata": {},
     "output_type": "execute_result"
    }
   ],
   "source": [
    "#For push operation\n",
    "arr.append(4)\n",
    "arr.append(5)\n",
    "arr"
   ]
  },
  {
   "cell_type": "code",
   "execution_count": 43,
   "id": "31825206",
   "metadata": {},
   "outputs": [
    {
     "data": {
      "text/plain": [
       "[1, 2, 3, 4]"
      ]
     },
     "execution_count": 43,
     "metadata": {},
     "output_type": "execute_result"
    }
   ],
   "source": [
    "#For pop operation\n",
    "arr.pop()\n",
    "arr"
   ]
  },
  {
   "cell_type": "markdown",
   "id": "6b61d179",
   "metadata": {},
   "source": [
    "But this is technically an array and not a stack. So we can use insert operation in the array.  "
   ]
  },
  {
   "cell_type": "code",
   "execution_count": 44,
   "id": "2e75b2e1",
   "metadata": {},
   "outputs": [
    {
     "data": {
      "text/plain": [
       "[1, 7, 2, 3, 4]"
      ]
     },
     "execution_count": 44,
     "metadata": {},
     "output_type": "execute_result"
    }
   ],
   "source": [
    "arr.insert(1,7)\n",
    "arr"
   ]
  },
  {
   "cell_type": "markdown",
   "id": "54007f7e",
   "metadata": {},
   "source": [
    "But unlike pushing and popping from an array inserting into the middle is a big O(n) operation. But it's not a O(n) to index an array. These operations are constant time operation. For example "
   ]
  },
  {
   "cell_type": "code",
   "execution_count": 45,
   "id": "0397d6dd",
   "metadata": {},
   "outputs": [
    {
     "data": {
      "text/plain": [
       "[0, 7, 2, 0, 4]"
      ]
     },
     "execution_count": 45,
     "metadata": {},
     "output_type": "execute_result"
    }
   ],
   "source": [
    "arr[0] = 0\n",
    "arr[3] = 0 \n",
    "arr"
   ]
  },
  {
   "cell_type": "markdown",
   "id": "449e364a",
   "metadata": {},
   "source": [
    "Initialize arr of size n with default value of 1"
   ]
  },
  {
   "cell_type": "code",
   "execution_count": 46,
   "id": "ee096532",
   "metadata": {},
   "outputs": [
    {
     "name": "stdout",
     "output_type": "stream",
     "text": [
      "[1, 1, 1, 1, 1]\n",
      "5\n"
     ]
    }
   ],
   "source": [
    "n = 5\n",
    "arr = [1] * n\n",
    "print(arr)\n",
    "print(len(arr))"
   ]
  },
  {
   "cell_type": "code",
   "execution_count": 47,
   "id": "9f6b949b",
   "metadata": {},
   "outputs": [
    {
     "data": {
      "text/plain": [
       "4"
      ]
     },
     "execution_count": 47,
     "metadata": {},
     "output_type": "execute_result"
    }
   ],
   "source": [
    "arr = [1,2,3,4]\n",
    "arr[-1]  #Negative value read the last element of the array"
   ]
  },
  {
   "cell_type": "markdown",
   "id": "2cfb6d28",
   "metadata": {},
   "source": [
    "For second last value "
   ]
  },
  {
   "cell_type": "code",
   "execution_count": 49,
   "id": "a0f02418",
   "metadata": {},
   "outputs": [
    {
     "data": {
      "text/plain": [
       "3"
      ]
     },
     "execution_count": 49,
     "metadata": {},
     "output_type": "execute_result"
    }
   ],
   "source": [
    "arr[-2]"
   ]
  },
  {
   "cell_type": "markdown",
   "id": "ef898a10",
   "metadata": {},
   "source": [
    "Sublists also known as slicing "
   ]
  },
  {
   "cell_type": "code",
   "execution_count": 51,
   "id": "4b7eaec0",
   "metadata": {},
   "outputs": [
    {
     "name": "stdout",
     "output_type": "stream",
     "text": [
      "[2, 3]\n"
     ]
    }
   ],
   "source": [
    "arr = [1,2,3,4]\n",
    "print(arr[1:3]) #similar to for loop ranges and last index is exclusive "
   ]
  },
  {
   "cell_type": "markdown",
   "id": "601fd3e5",
   "metadata": {},
   "source": [
    "Unpacking"
   ]
  },
  {
   "cell_type": "code",
   "execution_count": 52,
   "id": "10b89272",
   "metadata": {},
   "outputs": [
    {
     "name": "stdout",
     "output_type": "stream",
     "text": [
      "1 2 3\n"
     ]
    }
   ],
   "source": [
    "a,b,c = [1,2,3]\n",
    "print(a,b,c)"
   ]
  },
  {
   "cell_type": "markdown",
   "id": "35bb151d",
   "metadata": {},
   "source": [
    "Loop through array "
   ]
  },
  {
   "cell_type": "code",
   "execution_count": 54,
   "id": "174cbe4e",
   "metadata": {},
   "outputs": [
    {
     "name": "stdout",
     "output_type": "stream",
     "text": [
      "1\n",
      "2\n",
      "3\n"
     ]
    }
   ],
   "source": [
    "nums = [1,2,3]\n",
    "#using index\n",
    "for i in range(len(nums)):\n",
    "    print(nums[i])"
   ]
  },
  {
   "cell_type": "code",
   "execution_count": 56,
   "id": "5522347e",
   "metadata": {},
   "outputs": [
    {
     "name": "stdout",
     "output_type": "stream",
     "text": [
      "1\n",
      "2\n",
      "3\n"
     ]
    }
   ],
   "source": [
    "#Without index\n",
    "for n in nums:\n",
    "    print(n)"
   ]
  },
  {
   "cell_type": "code",
   "execution_count": 59,
   "id": "4fbd816d",
   "metadata": {},
   "outputs": [
    {
     "name": "stdout",
     "output_type": "stream",
     "text": [
      "0 1\n",
      "1 2\n",
      "2 3\n"
     ]
    }
   ],
   "source": [
    "#with index and value\n",
    "for index,value in enumerate(nums):\n",
    "    print(index,value)"
   ]
  },
  {
   "cell_type": "markdown",
   "id": "acb7f1c9",
   "metadata": {},
   "source": [
    "Loop through multiple arrays simultaneously with unpacking"
   ]
  },
  {
   "cell_type": "code",
   "execution_count": 60,
   "id": "fa9bbe6f",
   "metadata": {},
   "outputs": [
    {
     "name": "stdout",
     "output_type": "stream",
     "text": [
      "1 2\n",
      "3 4\n",
      "5 6\n"
     ]
    }
   ],
   "source": [
    "num1 = [1,3,5]\n",
    "num2 = [2,4,6]\n",
    "for n1,n2 in zip(num1,num2):\n",
    "    print(n1,n2)"
   ]
  },
  {
   "cell_type": "markdown",
   "id": "24236056",
   "metadata": {},
   "source": [
    "Reverse an array"
   ]
  },
  {
   "cell_type": "code",
   "execution_count": 61,
   "id": "a9936a88",
   "metadata": {},
   "outputs": [
    {
     "data": {
      "text/plain": [
       "[7, 8, 9]"
      ]
     },
     "execution_count": 61,
     "metadata": {},
     "output_type": "execute_result"
    }
   ],
   "source": [
    "arr = [9,8,7]\n",
    "arr.reverse()\n",
    "arr"
   ]
  },
  {
   "cell_type": "markdown",
   "id": "0111f02b",
   "metadata": {},
   "source": [
    "Sorting an array"
   ]
  },
  {
   "cell_type": "code",
   "execution_count": 62,
   "id": "132687e9",
   "metadata": {},
   "outputs": [
    {
     "data": {
      "text/plain": [
       "[1, 2, 3, 4, 6, 7, 8]"
      ]
     },
     "execution_count": 62,
     "metadata": {},
     "output_type": "execute_result"
    }
   ],
   "source": [
    "arr = [1,6,7,8,3,2,4]\n",
    "arr.sort()\n",
    "arr"
   ]
  },
  {
   "cell_type": "markdown",
   "id": "207844f2",
   "metadata": {},
   "source": [
    "If we want descending order sorting then"
   ]
  },
  {
   "cell_type": "code",
   "execution_count": 64,
   "id": "fedcf26d",
   "metadata": {},
   "outputs": [
    {
     "data": {
      "text/plain": [
       "[8, 7, 6, 4, 3, 2, 1]"
      ]
     },
     "execution_count": 64,
     "metadata": {},
     "output_type": "execute_result"
    }
   ],
   "source": [
    "arr.sort(reverse=True)\n",
    "arr"
   ]
  },
  {
   "cell_type": "markdown",
   "id": "1bed78c9",
   "metadata": {},
   "source": [
    "We can sort strings also. For example"
   ]
  },
  {
   "cell_type": "code",
   "execution_count": 65,
   "id": "e798c3a0",
   "metadata": {},
   "outputs": [
    {
     "data": {
      "text/plain": [
       "['alice', 'bob', 'doe', 'jane']"
      ]
     },
     "execution_count": 65,
     "metadata": {},
     "output_type": "execute_result"
    }
   ],
   "source": [
    "arr = [\"bob\",\"alice\",\"jane\",\"doe\"]\n",
    "arr.sort()\n",
    "arr"
   ]
  },
  {
   "cell_type": "markdown",
   "id": "2e6a9c49",
   "metadata": {},
   "source": [
    "We can also sort string according to their length. For this we need to use lambda function"
   ]
  },
  {
   "cell_type": "code",
   "execution_count": 67,
   "id": "bfcef41c",
   "metadata": {},
   "outputs": [
    {
     "data": {
      "text/plain": [
       "['bob', 'doe', 'jane', 'alice']"
      ]
     },
     "execution_count": 67,
     "metadata": {},
     "output_type": "execute_result"
    }
   ],
   "source": [
    "arr.sort(key= lambda x: len(x))\n",
    "arr"
   ]
  },
  {
   "cell_type": "markdown",
   "id": "e6bac5d1",
   "metadata": {},
   "source": [
    "#### List Comprehension"
   ]
  },
  {
   "cell_type": "code",
   "execution_count": 68,
   "id": "6b307552",
   "metadata": {},
   "outputs": [
    {
     "data": {
      "text/plain": [
       "[0, 1, 2, 3, 4]"
      ]
     },
     "execution_count": 68,
     "metadata": {},
     "output_type": "execute_result"
    }
   ],
   "source": [
    "arr = [i for i in range(5)]\n",
    "arr"
   ]
  },
  {
   "cell_type": "code",
   "execution_count": 69,
   "id": "a7bd4da6",
   "metadata": {},
   "outputs": [
    {
     "data": {
      "text/plain": [
       "[0, 2, 4, 6, 8]"
      ]
     },
     "execution_count": 69,
     "metadata": {},
     "output_type": "execute_result"
    }
   ],
   "source": [
    "arr = [i+i for i in range(5)]\n",
    "arr"
   ]
  },
  {
   "cell_type": "markdown",
   "id": "a50a54e6",
   "metadata": {},
   "source": [
    "2D lists"
   ]
  },
  {
   "cell_type": "code",
   "execution_count": 73,
   "id": "c9e4ca60",
   "metadata": {},
   "outputs": [
    {
     "data": {
      "text/plain": [
       "[[0, 0, 0, 0], [0, 0, 0, 0], [0, 0, 0, 0], [0, 0, 0, 0]]"
      ]
     },
     "execution_count": 73,
     "metadata": {},
     "output_type": "execute_result"
    }
   ],
   "source": [
    "arr = [[0]*4 for i in range(4)]\n",
    "arr"
   ]
  },
  {
   "cell_type": "code",
   "execution_count": 74,
   "id": "9050c9bd",
   "metadata": {},
   "outputs": [
    {
     "data": {
      "text/plain": [
       "[[], [0], [0, 0], [0, 0, 0]]"
      ]
     },
     "execution_count": 74,
     "metadata": {},
     "output_type": "execute_result"
    }
   ],
   "source": [
    "arr = [[0]*i for i in range(4)]\n",
    "arr"
   ]
  },
  {
   "cell_type": "markdown",
   "id": "89d4d388",
   "metadata": {},
   "source": [
    "#### Strings are similar to arrays "
   ]
  },
  {
   "cell_type": "code",
   "execution_count": 76,
   "id": "6ee277fd",
   "metadata": {},
   "outputs": [
    {
     "data": {
      "text/plain": [
       "'ab'"
      ]
     },
     "execution_count": 76,
     "metadata": {},
     "output_type": "execute_result"
    }
   ],
   "source": [
    "s = \"abc\"\n",
    "s[0:2]"
   ]
  },
  {
   "cell_type": "markdown",
   "id": "a9541df9",
   "metadata": {},
   "source": [
    "But a key point is that they are immutable.That means we can't modify this strings, that means we can't reassign the character at index zero "
   ]
  },
  {
   "cell_type": "code",
   "execution_count": 78,
   "id": "aafebe04",
   "metadata": {},
   "outputs": [],
   "source": [
    "#s[0] = \"A\" it shows an error \"TypeError: 'str' object does not support item assignment\""
   ]
  },
  {
   "cell_type": "markdown",
   "id": "1c67e826",
   "metadata": {},
   "source": [
    "However we can update the string but updating it will actually create a new string. So modify a string considered an endtime operation. For example "
   ]
  },
  {
   "cell_type": "code",
   "execution_count": 79,
   "id": "d44656fb",
   "metadata": {},
   "outputs": [
    {
     "data": {
      "text/plain": [
       "'abcdef'"
      ]
     },
     "execution_count": 79,
     "metadata": {},
     "output_type": "execute_result"
    }
   ],
   "source": [
    "s = \"abc\"\n",
    "s +=\"def\"\n",
    "s"
   ]
  },
  {
   "cell_type": "markdown",
   "id": "5c5d938c",
   "metadata": {},
   "source": [
    "To find the ASCII value of a char. We need to use ORD function"
   ]
  },
  {
   "cell_type": "code",
   "execution_count": 80,
   "id": "8302acdc",
   "metadata": {},
   "outputs": [
    {
     "name": "stdout",
     "output_type": "stream",
     "text": [
      "97\n"
     ]
    }
   ],
   "source": [
    "print(ord('a'))"
   ]
  },
  {
   "cell_type": "code",
   "execution_count": 81,
   "id": "f9472db5",
   "metadata": {},
   "outputs": [
    {
     "name": "stdout",
     "output_type": "stream",
     "text": [
      "98\n"
     ]
    }
   ],
   "source": [
    "print(ord('b'))"
   ]
  },
  {
   "cell_type": "markdown",
   "id": "5936b473",
   "metadata": {},
   "source": [
    "Combine a list of strings (with an empty string delimitor) "
   ]
  },
  {
   "cell_type": "code",
   "execution_count": 82,
   "id": "a22b39b2",
   "metadata": {},
   "outputs": [
    {
     "name": "stdout",
     "output_type": "stream",
     "text": [
      "abcdef\n"
     ]
    }
   ],
   "source": [
    "strings = [\"ab\",\"cd\",\"ef\"]\n",
    "print(\"\".join(strings))"
   ]
  },
  {
   "cell_type": "markdown",
   "id": "8bb17828",
   "metadata": {},
   "source": [
    "#### Queue (double ended queue) "
   ]
  },
  {
   "cell_type": "code",
   "execution_count": 94,
   "id": "924fbc95",
   "metadata": {},
   "outputs": [
    {
     "data": {
      "text/plain": [
       "deque([1, 2])"
      ]
     },
     "execution_count": 94,
     "metadata": {},
     "output_type": "execute_result"
    }
   ],
   "source": [
    "from collections import deque\n",
    "\n",
    "queue = deque()\n",
    "queue.append(1)\n",
    "queue.append(2)\n",
    "queue"
   ]
  },
  {
   "cell_type": "code",
   "execution_count": 95,
   "id": "18744b4b",
   "metadata": {},
   "outputs": [
    {
     "data": {
      "text/plain": [
       "deque([2])"
      ]
     },
     "execution_count": 95,
     "metadata": {},
     "output_type": "execute_result"
    }
   ],
   "source": [
    "queue.popleft()\n",
    "queue"
   ]
  },
  {
   "cell_type": "code",
   "execution_count": 96,
   "id": "87b1ac1f",
   "metadata": {},
   "outputs": [
    {
     "data": {
      "text/plain": [
       "deque([1, 2])"
      ]
     },
     "execution_count": 96,
     "metadata": {},
     "output_type": "execute_result"
    }
   ],
   "source": [
    "queue.appendleft(1)\n",
    "queue"
   ]
  },
  {
   "cell_type": "code",
   "execution_count": 97,
   "id": "9bc543d5",
   "metadata": {},
   "outputs": [
    {
     "data": {
      "text/plain": [
       "deque([1])"
      ]
     },
     "execution_count": 97,
     "metadata": {},
     "output_type": "execute_result"
    }
   ],
   "source": [
    "queue.pop()\n",
    "queue"
   ]
  },
  {
   "cell_type": "markdown",
   "id": "e5094c9b",
   "metadata": {},
   "source": [
    "#### HashSet \n",
    "using this we can search value in constant time and we can insert or remove values in constant time. There won't be any duplicates in our set  "
   ]
  },
  {
   "cell_type": "code",
   "execution_count": 99,
   "id": "55065440",
   "metadata": {},
   "outputs": [
    {
     "data": {
      "text/plain": [
       "{1, 2}"
      ]
     },
     "execution_count": 99,
     "metadata": {},
     "output_type": "execute_result"
    }
   ],
   "source": [
    "mySet = set()\n",
    "\n",
    "mySet.add(1)\n",
    "mySet.add(2)\n",
    "mySet"
   ]
  },
  {
   "cell_type": "code",
   "execution_count": 100,
   "id": "835ab784",
   "metadata": {},
   "outputs": [
    {
     "data": {
      "text/plain": [
       "2"
      ]
     },
     "execution_count": 100,
     "metadata": {},
     "output_type": "execute_result"
    }
   ],
   "source": [
    "len(mySet)"
   ]
  },
  {
   "cell_type": "markdown",
   "id": "7f05d151",
   "metadata": {},
   "source": [
    "Search item in set"
   ]
  },
  {
   "cell_type": "code",
   "execution_count": 101,
   "id": "ea2cf88b",
   "metadata": {},
   "outputs": [
    {
     "data": {
      "text/plain": [
       "True"
      ]
     },
     "execution_count": 101,
     "metadata": {},
     "output_type": "execute_result"
    }
   ],
   "source": [
    "1 in mySet"
   ]
  },
  {
   "cell_type": "code",
   "execution_count": 102,
   "id": "ddcacdd4",
   "metadata": {},
   "outputs": [
    {
     "data": {
      "text/plain": [
       "True"
      ]
     },
     "execution_count": 102,
     "metadata": {},
     "output_type": "execute_result"
    }
   ],
   "source": [
    "2 in mySet"
   ]
  },
  {
   "cell_type": "code",
   "execution_count": 103,
   "id": "8b473fd3",
   "metadata": {},
   "outputs": [
    {
     "data": {
      "text/plain": [
       "False"
      ]
     },
     "execution_count": 103,
     "metadata": {},
     "output_type": "execute_result"
    }
   ],
   "source": [
    "3 in mySet"
   ]
  },
  {
   "cell_type": "code",
   "execution_count": 104,
   "id": "d4409901",
   "metadata": {},
   "outputs": [
    {
     "data": {
      "text/plain": [
       "False"
      ]
     },
     "execution_count": 104,
     "metadata": {},
     "output_type": "execute_result"
    }
   ],
   "source": [
    "mySet.remove(2)\n",
    "2 in mySet"
   ]
  },
  {
   "cell_type": "markdown",
   "id": "4f310243",
   "metadata": {},
   "source": [
    "Set comprehension is also possible"
   ]
  },
  {
   "cell_type": "code",
   "execution_count": 105,
   "id": "78fad219",
   "metadata": {},
   "outputs": [
    {
     "data": {
      "text/plain": [
       "{0, 1, 2, 3, 4}"
      ]
     },
     "execution_count": 105,
     "metadata": {},
     "output_type": "execute_result"
    }
   ],
   "source": [
    "s = {i for i in range(5)}\n",
    "s"
   ]
  },
  {
   "cell_type": "markdown",
   "id": "4228c9c2",
   "metadata": {},
   "source": [
    "#### HashMap also known as dictionary \n",
    "It can't take duplicate keys inside of the hashmap. "
   ]
  },
  {
   "cell_type": "code",
   "execution_count": 107,
   "id": "6ea4e702",
   "metadata": {},
   "outputs": [
    {
     "data": {
      "text/plain": [
       "{'Alice': 88, 'Bob': 77}"
      ]
     },
     "execution_count": 107,
     "metadata": {},
     "output_type": "execute_result"
    }
   ],
   "source": [
    "myMap = {}\n",
    "\n",
    "myMap['Alice'] = 88\n",
    "myMap['Bob'] = 77\n",
    "myMap"
   ]
  },
  {
   "cell_type": "markdown",
   "id": "709985e3",
   "metadata": {},
   "source": [
    "Taking the length will give us the number of keys that exist in our hashmap."
   ]
  },
  {
   "cell_type": "code",
   "execution_count": 108,
   "id": "2d03f2b0",
   "metadata": {},
   "outputs": [
    {
     "data": {
      "text/plain": [
       "2"
      ]
     },
     "execution_count": 108,
     "metadata": {},
     "output_type": "execute_result"
    }
   ],
   "source": [
    "len(myMap)"
   ]
  },
  {
   "cell_type": "markdown",
   "id": "62b65d81",
   "metadata": {},
   "source": [
    "We can modify the value that's mapped to a key. "
   ]
  },
  {
   "cell_type": "code",
   "execution_count": 109,
   "id": "8485ac95",
   "metadata": {},
   "outputs": [
    {
     "data": {
      "text/plain": [
       "{'Alice': 80, 'Bob': 77}"
      ]
     },
     "execution_count": 109,
     "metadata": {},
     "output_type": "execute_result"
    }
   ],
   "source": [
    "myMap['Alice'] = 80\n",
    "myMap"
   ]
  },
  {
   "cell_type": "markdown",
   "id": "2ca4a8d7",
   "metadata": {},
   "source": [
    "Search 'key' in hashmap "
   ]
  },
  {
   "cell_type": "code",
   "execution_count": 110,
   "id": "74a508d5",
   "metadata": {},
   "outputs": [
    {
     "data": {
      "text/plain": [
       "True"
      ]
     },
     "execution_count": 110,
     "metadata": {},
     "output_type": "execute_result"
    }
   ],
   "source": [
    "'Alice' in myMap"
   ]
  },
  {
   "cell_type": "code",
   "execution_count": 111,
   "id": "1fadd1ba",
   "metadata": {},
   "outputs": [
    {
     "data": {
      "text/plain": [
       "False"
      ]
     },
     "execution_count": 111,
     "metadata": {},
     "output_type": "execute_result"
    }
   ],
   "source": [
    "77 in myMap  #Search 'value' is not valid way"
   ]
  },
  {
   "cell_type": "code",
   "execution_count": 112,
   "id": "a7a3c1db",
   "metadata": {},
   "outputs": [
    {
     "data": {
      "text/plain": [
       "80"
      ]
     },
     "execution_count": 112,
     "metadata": {},
     "output_type": "execute_result"
    }
   ],
   "source": [
    "myMap.pop('Alice')"
   ]
  },
  {
   "cell_type": "code",
   "execution_count": 113,
   "id": "8e9405e5",
   "metadata": {},
   "outputs": [
    {
     "data": {
      "text/plain": [
       "{'Bob': 77}"
      ]
     },
     "execution_count": 113,
     "metadata": {},
     "output_type": "execute_result"
    }
   ],
   "source": [
    "myMap"
   ]
  },
  {
   "cell_type": "markdown",
   "id": "219b265b",
   "metadata": {},
   "source": [
    "Initialization"
   ]
  },
  {
   "cell_type": "code",
   "execution_count": 114,
   "id": "1ffb6068",
   "metadata": {},
   "outputs": [
    {
     "data": {
      "text/plain": [
       "{'Alice': 40, 'Bob': 550}"
      ]
     },
     "execution_count": 114,
     "metadata": {},
     "output_type": "execute_result"
    }
   ],
   "source": [
    "myMap = {'Alice':40, \"Bob\": 550} \n",
    "myMap"
   ]
  },
  {
   "cell_type": "markdown",
   "id": "db61376a",
   "metadata": {},
   "source": [
    "Dict comprehension"
   ]
  },
  {
   "cell_type": "code",
   "execution_count": 118,
   "id": "1d315ebd",
   "metadata": {},
   "outputs": [
    {
     "data": {
      "text/plain": [
       "{0: 0, 1: 2, 2: 4}"
      ]
     },
     "execution_count": 118,
     "metadata": {},
     "output_type": "execute_result"
    }
   ],
   "source": [
    "myMap = {i:i*2 for i in range(3)}\n",
    "myMap   #It is most frequently used in graph problems to build adjacency list"
   ]
  },
  {
   "cell_type": "markdown",
   "id": "c44398ab",
   "metadata": {},
   "source": [
    "Looping through maps"
   ]
  },
  {
   "cell_type": "code",
   "execution_count": 119,
   "id": "536a83e4",
   "metadata": {},
   "outputs": [
    {
     "name": "stdout",
     "output_type": "stream",
     "text": [
      "Alice 40\n",
      "Bob 550\n"
     ]
    }
   ],
   "source": [
    "myMap = {'Alice':40, \"Bob\": 550} \n",
    "\n",
    "for key in myMap:\n",
    "    print(key, myMap[key])"
   ]
  },
  {
   "cell_type": "code",
   "execution_count": 120,
   "id": "25a32064",
   "metadata": {},
   "outputs": [
    {
     "name": "stdout",
     "output_type": "stream",
     "text": [
      "40\n",
      "550\n"
     ]
    }
   ],
   "source": [
    "for val in myMap.values():\n",
    "    print(val)"
   ]
  },
  {
   "cell_type": "code",
   "execution_count": 121,
   "id": "cf81adbc",
   "metadata": {},
   "outputs": [
    {
     "name": "stdout",
     "output_type": "stream",
     "text": [
      "Alice 40\n",
      "Bob 550\n"
     ]
    }
   ],
   "source": [
    "for key, val in myMap.items():\n",
    "    print(key, val)"
   ]
  },
  {
   "cell_type": "markdown",
   "id": "61143a39",
   "metadata": {},
   "source": [
    "#### Tuples are like arrays but immutable"
   ]
  },
  {
   "cell_type": "code",
   "execution_count": 124,
   "id": "a2e668b5",
   "metadata": {},
   "outputs": [
    {
     "name": "stdout",
     "output_type": "stream",
     "text": [
      "(1, 2, 3)\n",
      "1\n",
      "3\n"
     ]
    }
   ],
   "source": [
    "tup = (1,2,3)\n",
    "print(tup)\n",
    "print(tup[0])\n",
    "print(tup[-1])"
   ]
  },
  {
   "cell_type": "code",
   "execution_count": 126,
   "id": "d45cc90d",
   "metadata": {},
   "outputs": [],
   "source": [
    "#tup[0] = 0 it shows an error because we can't modify them"
   ]
  },
  {
   "cell_type": "markdown",
   "id": "cf6d831a",
   "metadata": {},
   "source": [
    "Can be used as key for hash map / set "
   ]
  },
  {
   "cell_type": "code",
   "execution_count": 127,
   "id": "5c0aa217",
   "metadata": {},
   "outputs": [
    {
     "data": {
      "text/plain": [
       "3"
      ]
     },
     "execution_count": 127,
     "metadata": {},
     "output_type": "execute_result"
    }
   ],
   "source": [
    "myMap = {(1,2):3}\n",
    "myMap[(1,2)]"
   ]
  },
  {
   "cell_type": "code",
   "execution_count": 129,
   "id": "7ad1770d",
   "metadata": {},
   "outputs": [
    {
     "name": "stdout",
     "output_type": "stream",
     "text": [
      "{(1, 2)}\n",
      "True\n"
     ]
    }
   ],
   "source": [
    "mySet = set()\n",
    "mySet.add((1,2))\n",
    "print(mySet)\n",
    "print((1,2) in mySet)"
   ]
  },
  {
   "cell_type": "markdown",
   "id": "954a0088",
   "metadata": {},
   "source": [
    "List can't be used as a keys"
   ]
  },
  {
   "cell_type": "code",
   "execution_count": 131,
   "id": "c92702e8",
   "metadata": {},
   "outputs": [],
   "source": [
    "#myMap[[3,4]] = 5 it shows \"TypeError: unhashable type: 'list'\""
   ]
  },
  {
   "cell_type": "markdown",
   "id": "071e5da7",
   "metadata": {},
   "source": [
    "#### Heaps\n",
    "By default heaps in python are Min heaps "
   ]
  },
  {
   "cell_type": "code",
   "execution_count": 135,
   "id": "d5d2b73f",
   "metadata": {},
   "outputs": [
    {
     "data": {
      "text/plain": [
       "[2, 3, 4]"
      ]
     },
     "execution_count": 135,
     "metadata": {},
     "output_type": "execute_result"
    }
   ],
   "source": [
    "import heapq\n",
    "\n",
    "minHeap = []\n",
    "heapq.heappush(minHeap,3)\n",
    "heapq.heappush(minHeap,2)\n",
    "heapq.heappush(minHeap,4)\n",
    "minHeap"
   ]
  },
  {
   "cell_type": "markdown",
   "id": "2fa12fc8",
   "metadata": {},
   "source": [
    "Min is always at index 0"
   ]
  },
  {
   "cell_type": "code",
   "execution_count": 136,
   "id": "dacd6655",
   "metadata": {},
   "outputs": [
    {
     "name": "stdout",
     "output_type": "stream",
     "text": [
      "2\n",
      "3\n",
      "4\n"
     ]
    }
   ],
   "source": [
    "while len(minHeap):\n",
    "    print(heapq.heappop(minHeap))"
   ]
  },
  {
   "cell_type": "markdown",
   "id": "f60cf54b",
   "metadata": {},
   "source": [
    "To find Max heap we need to multiply by -1 when we use push and pop operation. "
   ]
  },
  {
   "cell_type": "code",
   "execution_count": 145,
   "id": "f353381b",
   "metadata": {},
   "outputs": [
    {
     "data": {
      "text/plain": [
       "[-4, -2, -3]"
      ]
     },
     "execution_count": 145,
     "metadata": {},
     "output_type": "execute_result"
    }
   ],
   "source": [
    "import heapq\n",
    "\n",
    "maxHeap = []\n",
    "heapq.heappush(maxHeap, -3)\n",
    "heapq.heappush(maxHeap, -2)\n",
    "heapq.heappush(maxHeap, -4)\n",
    "maxHeap"
   ]
  },
  {
   "cell_type": "markdown",
   "id": "7a702a17",
   "metadata": {},
   "source": [
    "First index always return max value"
   ]
  },
  {
   "cell_type": "code",
   "execution_count": 146,
   "id": "f9e6e5e6",
   "metadata": {},
   "outputs": [
    {
     "name": "stdout",
     "output_type": "stream",
     "text": [
      "4\n"
     ]
    }
   ],
   "source": [
    "print(-1 * maxHeap[0])"
   ]
  },
  {
   "cell_type": "code",
   "execution_count": 147,
   "id": "b8181db2",
   "metadata": {},
   "outputs": [
    {
     "name": "stdout",
     "output_type": "stream",
     "text": [
      "4\n",
      "3\n",
      "2\n"
     ]
    }
   ],
   "source": [
    "while len(maxHeap):\n",
    "    print(-1 * heapq.heappop(maxHeap))"
   ]
  },
  {
   "cell_type": "markdown",
   "id": "12ac4e84",
   "metadata": {},
   "source": [
    "Bulid heap from initial values "
   ]
  },
  {
   "cell_type": "code",
   "execution_count": 148,
   "id": "670980bc",
   "metadata": {},
   "outputs": [
    {
     "name": "stdout",
     "output_type": "stream",
     "text": [
      "1\n",
      "2\n",
      "4\n",
      "5\n",
      "8\n"
     ]
    }
   ],
   "source": [
    "import heapq\n",
    "\n",
    "arr = [2,1,8,4,5]\n",
    "\n",
    "heapq.heapify(arr)\n",
    "\n",
    "while arr:\n",
    "    print(heapq.heappop(arr))"
   ]
  },
  {
   "cell_type": "markdown",
   "id": "1e84e278",
   "metadata": {},
   "source": [
    "#### Function"
   ]
  },
  {
   "cell_type": "code",
   "execution_count": 149,
   "id": "73818ca6",
   "metadata": {},
   "outputs": [
    {
     "data": {
      "text/plain": [
       "30"
      ]
     },
     "execution_count": 149,
     "metadata": {},
     "output_type": "execute_result"
    }
   ],
   "source": [
    "def myFunc(a, b):\n",
    "    return(a*b)\n",
    "\n",
    "myFunc(5,6)"
   ]
  },
  {
   "cell_type": "markdown",
   "id": "e19775ef",
   "metadata": {},
   "source": [
    "Nested loop"
   ]
  },
  {
   "cell_type": "code",
   "execution_count": 151,
   "id": "f4ea945e",
   "metadata": {},
   "outputs": [
    {
     "data": {
      "text/plain": [
       "'abc'"
      ]
     },
     "execution_count": 151,
     "metadata": {},
     "output_type": "execute_result"
    }
   ],
   "source": [
    "def outer(a,b):\n",
    "    c = \"c\"\n",
    "    def inner():\n",
    "        return a+b+c\n",
    "    return inner()\n",
    "\n",
    "outer(\"a\",\"b\")"
   ]
  },
  {
   "cell_type": "code",
   "execution_count": null,
   "id": "b658f76d",
   "metadata": {},
   "outputs": [],
   "source": []
  }
 ],
 "metadata": {
  "kernelspec": {
   "display_name": "Python 3 (ipykernel)",
   "language": "python",
   "name": "python3"
  },
  "language_info": {
   "codemirror_mode": {
    "name": "ipython",
    "version": 3
   },
   "file_extension": ".py",
   "mimetype": "text/x-python",
   "name": "python",
   "nbconvert_exporter": "python",
   "pygments_lexer": "ipython3",
   "version": "3.9.6"
  }
 },
 "nbformat": 4,
 "nbformat_minor": 5
}
