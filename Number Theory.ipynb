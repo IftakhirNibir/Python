{
 "cells": [
  {
   "cell_type": "markdown",
   "id": "356bf974",
   "metadata": {},
   "source": [
    "## Sum of n numbers"
   ]
  },
  {
   "cell_type": "markdown",
   "id": "d298c9cf",
   "metadata": {},
   "source": [
    "<strong>Logic:</strong> If n=5, then the output will be -> 1+2+3+4+5 = 15 <br>\n",
    "If we use loop then it takes O(n) times. But we can find the sum of n numbers using a formula:<br>\n",
    "The formula is  n*(n+1)/2 <br>\n",
    "For our input, the output will be 5*(5+1)/2 = 30/2 = 15 <br>\n",
    "And it only takes 0(1) times. "
   ]
  },
  {
   "cell_type": "code",
   "execution_count": 5,
   "id": "c145332f",
   "metadata": {},
   "outputs": [],
   "source": [
    "def sum(n):\n",
    "    return n*(n+1)//2"
   ]
  },
  {
   "cell_type": "code",
   "execution_count": 7,
   "id": "a08cf0be",
   "metadata": {
    "scrolled": true
   },
   "outputs": [
    {
     "name": "stdout",
     "output_type": "stream",
     "text": [
      "Total Testcase: 3\n",
      "Enter the number: 5\n",
      "The output is 15\n",
      "Enter the number: 10\n",
      "The output is 55\n",
      "Enter the number: 9687456321\n",
      "The output is 46923404990485155681\n"
     ]
    }
   ],
   "source": [
    "t = int(input(\"Total Testcase: \"))\n",
    "while t:\n",
    "    n = int(input(\"Enter the number: \"))\n",
    "    print(f'The output is {sum(n)}')\n",
    "    t-=1"
   ]
  },
  {
   "cell_type": "markdown",
   "id": "0c7ea61a",
   "metadata": {},
   "source": [
    "## GCD of two numbers "
   ]
  },
  {
   "cell_type": "markdown",
   "id": "c7de18cd",
   "metadata": {},
   "source": [
    "For example we want to find GCD of 12 and 14<br>\n",
    "Now, 12 = 1x2x3x4x6x12 <br>\n",
    "and  14 = 1x2x7x14 <br> \n",
    "the common numbers are 1x2, Here the highest value is 2 <br>\n",
    "So GCD is 2, it is the greatest number which will divide both the numbers completely. \n",
    "GCD is also called HCF(Highest Common Factor) Now we maintain a formula to solve this<br>\n",
    "<strong>Formula: We take highest value in the left side and lowest value in the right side then in the opposite direction we store remainder of two numbers</strong> For example we need to find GCD of 4,18\n",
    "<br> Now,<br>\n",
    "First number Second number = Remainder <br>\n",
    "&emsp;&emsp;   18 4 = 2 <br>\n",
    "&emsp;&emsp;   4 2 = 0 <br>\n",
    "&emsp;&emsp;   2 0 <- if we got zero in the right side then the left side value is GCD, here so GCD is 2. So<br>\n",
    "&emsp;&emsp; a value  b value = a%b remainder <br>\n",
    "&emsp;&emsp; b a%b = remainder <br>\n",
    "so a wil become b and b will become a%b, when b value become 0 then a value is GCD <br>\n",
    "The algorithm is called euclid algorithm it's time complexity is o(log(min(a,b)) <br> "
   ]
  },
  {
   "cell_type": "markdown",
   "id": "2070c617",
   "metadata": {},
   "source": [
    "## LCM of two numbers"
   ]
  },
  {
   "cell_type": "markdown",
   "id": "9da6cff7",
   "metadata": {},
   "source": [
    "<strong>Formula: product of two number = lcm x gcd <br>\n",
    "So, LCM = product//gcd\n",
    "</strong>    \n",
    "We will calculate GCD and LCM of 2 numbers <br>\n",
    "20 = 1x2x4x5x10x20 <br>\n",
    "50 = 1x2x5x10x25x50 <br>\n",
    "the common numbers are 1x2x5x10, highest value = 10 and total product value is 100 so LCM = 100 and GCD = 10<br> \n",
    "using the formula lcm = 20*50//10 = 100"
   ]
  },
  {
   "cell_type": "code",
   "execution_count": 11,
   "id": "46cde34b",
   "metadata": {},
   "outputs": [],
   "source": [
    "def GCD(a,b):\n",
    "    if b==0:\n",
    "        return a\n",
    "    else:\n",
    "        return GCD(b,a%b)"
   ]
  },
  {
   "cell_type": "code",
   "execution_count": 12,
   "id": "dfb18167",
   "metadata": {},
   "outputs": [],
   "source": [
    "def LCM(a, b):\n",
    "    product = a*b\n",
    "    HCF = GCD(a,b)\n",
    "    return product // HCF"
   ]
  },
  {
   "cell_type": "code",
   "execution_count": 15,
   "id": "ab352c4a",
   "metadata": {},
   "outputs": [
    {
     "name": "stdout",
     "output_type": "stream",
     "text": [
      "2\n",
      "5 10\n",
      "GCD of 5 and 10 is 5 and LCM is 10\n",
      "10 15\n",
      "GCD of 10 and 15 is 5 and LCM is 30\n"
     ]
    }
   ],
   "source": [
    "t = int(input())\n",
    "while t:\n",
    "    n,m = map(int,input().split())\n",
    "    print(f\"GCD of {n} and {m} is {GCD(n,m)} and LCM is {LCM(n,m)}\")\n",
    "    t-=1"
   ]
  },
  {
   "cell_type": "markdown",
   "id": "cb313495",
   "metadata": {},
   "source": [
    "#### Code Explaination:\n",
    "Let GCD(10,15), Here a = 10 and b = 15 <br>\n",
    "=> b!=0 so, GCD(15,10%15) or GCD(15,10)<br>\n",
    "=> b!=0 so, GCD(10,15%10) or GCD(10,5) <br>\n",
    "=> b!=0 so, GCD(5,10%5) or GCD(5,0) <br>\n",
    "=> b==0 so, return a = 5 <br>\n",
    "#### Math Explaination\n",
    "=> 10 15 = 10%15 <br>\n",
    "=> 10 15 = 10   <br>\n",
    "=> 15 10 = 5 <br>\n",
    "=> 10 5 = 0 <br>\n",
    "=> 5  0  <br>"
   ]
  },
  {
   "cell_type": "markdown",
   "id": "b220b388",
   "metadata": {},
   "source": [
    "## Find Divisors Of A Number"
   ]
  },
  {
   "cell_type": "markdown",
   "id": "ceb7175a",
   "metadata": {},
   "source": [
    "For example Divisor of a number 15 is 1 3 5 15   [15 = 1x3x5x15] "
   ]
  },
  {
   "cell_type": "code",
   "execution_count": 25,
   "id": "81a56951",
   "metadata": {},
   "outputs": [],
   "source": [
    "from math import sqrt\n",
    "def FDOAN(n):\n",
    "    a = set()\n",
    "    for i in range(1,int(sqrt(n))+1): #[1 to root(n)]\n",
    "        if n%i==0:\n",
    "            a.add(i)\n",
    "            a.add(n//i)\n",
    "    return list(a)"
   ]
  },
  {
   "cell_type": "code",
   "execution_count": 27,
   "id": "9818496b",
   "metadata": {},
   "outputs": [
    {
     "name": "stdout",
     "output_type": "stream",
     "text": [
      "2\n",
      "15\n",
      "1 3 5 15\n",
      "24\n",
      "1 2 3 4 6 8 12 24\n"
     ]
    }
   ],
   "source": [
    "t = int(input())\n",
    "while t:\n",
    "    n = int(input())\n",
    "    a = FDOAN(n)\n",
    "    print(*a)\n",
    "    t-=1"
   ]
  },
  {
   "cell_type": "markdown",
   "id": "c8883118",
   "metadata": {},
   "source": [
    "Here we use set for getting sorted list. Time complexity: O(root(n)) \n",
    "#### Explaination:\n",
    "squre of 15 is 3.87 so the loop will run from 1 to 3+1 times or 1 to 3 times because last 1 is exclude <br>\n",
    "15%1==0 so 1 and 15/1 = 15 so we get 1, 15 <br> \n",
    "15%2!=0 so (X) <br>\n",
    "15%3==0 so 3 and 15/3 = 5 so we get 3, 5 <br>\n",
    "So the final output = 1,3,5,15"
   ]
  },
  {
   "cell_type": "code",
   "execution_count": null,
   "id": "3d31fde7",
   "metadata": {},
   "outputs": [],
   "source": []
  }
 ],
 "metadata": {
  "kernelspec": {
   "display_name": "Python 3 (ipykernel)",
   "language": "python",
   "name": "python3"
  },
  "language_info": {
   "codemirror_mode": {
    "name": "ipython",
    "version": 3
   },
   "file_extension": ".py",
   "mimetype": "text/x-python",
   "name": "python",
   "nbconvert_exporter": "python",
   "pygments_lexer": "ipython3",
   "version": "3.9.6"
  }
 },
 "nbformat": 4,
 "nbformat_minor": 5
}
